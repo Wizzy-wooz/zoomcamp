{
 "cells": [
  {
   "cell_type": "code",
   "execution_count": 3,
   "id": "495e574c-62c1-4492-acb6-cf4c663068d5",
   "metadata": {},
   "outputs": [
    {
     "name": "stdout",
     "output_type": "stream",
     "text": [
      "Columns: ['engine_displacement', 'num_cylinders', 'horsepower', 'vehicle_weight', 'acceleration', 'model_year', 'origin', 'fuel_type', 'drivetrain', 'num_doors', 'fuel_efficiency_mpg']\n",
      "Shape: (9704, 11)\n",
      "\n",
      "Q2 (records count): 9704\n",
      "Q3 (fuel types): 2 → unique: ['Diesel', 'Gasoline']\n",
      "Q4 (columns with missing): 4 (total missing cells: 2622)\n",
      "Q5 (max fuel efficiency, Asia): 23.76\n",
      "Q6 (median HP): before=149.00, after=152.00 → Yes, it increased\n",
      "Q7 (sum of w elements): 0.518771\n",
      "Q2: 9704.0\n",
      "Q3: 2.0\n",
      "Q4: 4.0\n",
      "Q5: 23.75\n",
      "Q6: Yes, it increased\n",
      "Q7: 0.51\n"
     ]
    }
   ],
   "source": [
    "import pandas as pd\n",
    "import numpy as np\n",
    "from numpy.linalg import inv\n",
    "\n",
    "# Load\n",
    "url = \"https://raw.githubusercontent.com/alexeygrigorev/datasets/master/car_fuel_efficiency.csv\"\n",
    "df = pd.read_csv(url)\n",
    "\n",
    "print(\"Columns:\", df.columns.tolist())\n",
    "print(\"Shape:\", df.shape)\n",
    "print()\n",
    "\n",
    "# Q2. Records count\n",
    "q2 = len(df)\n",
    "print(\"Q2 (records count):\", q2)\n",
    "\n",
    "# Q3. Fuel types (unique count)\n",
    "fuel_col = next((c for c in df.columns if c.lower() in (\"fuel\", \"fuel_type\")), None)\n",
    "q3 = int(df[fuel_col].nunique())\n",
    "print(\"Q3 (fuel types):\", q3, \"→ unique:\", sorted(df[fuel_col].dropna().unique().tolist()))\n",
    "\n",
    "# Q4. How many columns have missing values\n",
    "q4 = int(df.isna().any().sum())\n",
    "total_na = int(df.isna().sum().sum())\n",
    "print(\"Q4 (columns with missing):\", q4, f\"(total missing cells: {total_na})\")\n",
    "\n",
    "# Q5. Max fuel efficiency of cars from Asia\n",
    "origin_col = next((c for c in df.columns if c.lower() == \"origin\"), None)\n",
    "fe_col = next((c for c in df.columns if any(k in c.lower() for k in [\"mpg\",\"fuel_eff\",\"efficiency\"])), None)\n",
    "\n",
    "asia = df[df[origin_col] == \"Asia\"]\n",
    "asia_fe = pd.to_numeric(asia[fe_col], errors=\"coerce\")\n",
    "q5_val = float(asia_fe.max())\n",
    "print(f\"Q5 (max fuel efficiency, Asia): {q5_val:.2f}\")\n",
    "\n",
    "# Q6. Median horsepower, then fillna with mode, median again\n",
    "hp_col = next((c for c in df.columns if (\"horse\" in c.lower()) or (c.lower() == \"hp\")), None)\n",
    "hp = pd.to_numeric(df[hp_col], errors=\"coerce\")\n",
    "med1 = float(hp.median())\n",
    "mode_hp = float(hp.mode(dropna=True).iloc[0])\n",
    "med2 = float(hp.fillna(mode_hp).median())\n",
    "if med2 > med1: q6 = \"Yes, it increased\"\n",
    "elif med2 < med1: q6 = \"Yes, it decreased\"\n",
    "else: q6 = \"No\"\n",
    "print(f\"Q6 (median HP): before={med1:.2f}, after={med2:.2f} → {q6}\")\n",
    "\n",
    "# Q7. Linear algebra mini-regression on Asia weights/year\n",
    "X = asia[[\"vehicle_weight\", \"model_year\"]].head(7).to_numpy(dtype=float)\n",
    "y = np.array([1100, 1300, 800, 900, 1000, 1100, 1200], dtype=float)\n",
    "w = inv(X.T @ X) @ X.T @ y\n",
    "q7_sum = float(w.sum())\n",
    "print(f\"Q7 (sum of w elements): {q7_sum:.6f}\")\n",
    "\n",
    "# Map to choices for convenience\n",
    "def nearest(val, choices): \n",
    "    choices = np.array(choices, dtype=float)\n",
    "    return float(choices[np.argmin(np.abs(choices - val))])\n",
    "\n",
    "print(\"Q2:\", nearest(q2, [4704, 8704, 9704, 17704]))\n",
    "print(\"Q3:\", nearest(q3, [1, 2, 3, 4]))\n",
    "print(\"Q4:\", nearest(q4, [0, 1, 2, 3, 4]))\n",
    "print(\"Q5:\", nearest(q5_val, [13.75, 23.75, 33.75, 43.75]))\n",
    "print(\"Q6:\", q6)\n",
    "print(\"Q7:\", nearest(q7_sum, [0.051, 0.51, 5.1, 51]))\n"
   ]
  },
  {
   "cell_type": "code",
   "execution_count": null,
   "id": "0a5cc0b0-0bc6-4f45-b9ee-03ab21da5c54",
   "metadata": {},
   "outputs": [],
   "source": []
  }
 ],
 "metadata": {
  "kernelspec": {
   "display_name": "Python 3 (ipykernel)",
   "language": "python",
   "name": "python3"
  },
  "language_info": {
   "codemirror_mode": {
    "name": "ipython",
    "version": 3
   },
   "file_extension": ".py",
   "mimetype": "text/x-python",
   "name": "python",
   "nbconvert_exporter": "python",
   "pygments_lexer": "ipython3",
   "version": "3.13.7"
  }
 },
 "nbformat": 4,
 "nbformat_minor": 5
}
